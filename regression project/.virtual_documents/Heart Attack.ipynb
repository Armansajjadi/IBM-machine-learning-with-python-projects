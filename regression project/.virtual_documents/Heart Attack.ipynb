


import pandas as pd
import numpy as np
from sklearn import preprocessing
from sklearn import svm
from sklearn.model_selection import train_test_split
import matplotlib.pyplot as plt


heartData = pd.read_csv('Heart attack.csv')

heartData.head()


heartData.dtypes


X = np.asanyarray(heartData[["age", "sex", "cp", "trtbps", "chol", "fbs", "restecg", "thalachh", "exng", "oldpeak", "slp", "caa", "thall"]])
X = preprocessing.StandardScaler().fit(X).transform(X)
Y = np.asanyarray(heartData[["output"]])
# heartData["output"].value_counts()


X_train, X_test, y_train, y_test = train_test_split( X, Y, test_size=0.2, random_state=4)




from sklearn.metrics import f1_score
for k in ['linear', 'poly', 'rbf', 'sigmoid']:
    svmModel = svm.SVC(kernel=k)
    myCModel= svmModel.fit(X_train,y_train)
    yHat = myCModel.predict(X_test)
    score = f1_score(y_test, yHat, average='weighted')
    print(f"For kernel = {k}, F1-score = {score:.4f}")



