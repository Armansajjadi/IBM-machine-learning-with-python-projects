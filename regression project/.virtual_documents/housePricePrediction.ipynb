


import pandas as pd
import numpy as np
from sklearn.model_selection import train_test_split
from sklearn import linear_model
from sklearn import preprocessing
import matplotlib.pyplot as plt


data = pd.read_csv("housePrice.csv")
data.head()





data = data[~data["Address"].isna()]





data["Area"] = pd.to_numeric(data["Area"], errors="coerce")
data = data[data["Area"] <= data["Area"].mean() + 3 * data["Area"].std()]
# data=data[data["Area"]<1000]
plt.hist(data["Area"], bins=50)
plt.show()





x = data.drop(columns="Price")
y = data["Price"]
X_train, X_test, y_train, y_test = train_test_split(
    x, y,
    test_size=0.1,
    random_state=42,
    shuffle=True
)

train_data = X_train.copy()
train_data['Price'] = y_train

test_data = X_test.copy()
test_data['Price'] = y_test


address_means = train_data.groupby('Address')['Price'].mean()

X_train['address_encoded'] = X_train['Address'].map(address_means)

X_test['address_encoded'] = X_test['Address'].map(address_means)

X_test['address_encoded'].fillna(train_data['Price'].mean(), inplace=True)

plt.figure(figsize=(14, 6))


plt.subplot(1, 2, 1)
plt.scatter(X_train['address_encoded'], y_train, alpha=0.6)
plt.title("Encoded Address vs Price (Train)")
plt.xlabel("Address Encoded")
plt.ylabel("Price")


address_numeric = data['Address'].astype('category').cat.codes

plt.subplot(1, 2, 2)
plt.scatter(address_numeric, data["Price"], alpha=0.6,color='orange')
plt.title("Original Address vs Price (Raw Data)")
plt.xlabel("Address (as index)")
plt.ylabel("Price")

plt.tight_layout()
plt.show()






regr = linear_model.LinearRegression()

# آماده‌سازی داده آموزش
x_train = np.asanyarray(X_train[["Area", "address_encoded", "Parking", "Elevator", "Warehouse", "Room"]])
y_train_array = np.asanyarray(y_train)

sc=preprocessing.StandardScaler()
x_train = sc.fit(x_train).transform(x_train)


# آموزش مدل
regr.fit(x_train, y_train_array)
print('Coefficients:', regr.coef_)





x_test = np.asanyarray(X_test[["Area", "address_encoded", "Parking", "Elevator", "Warehouse", "Room"]])
y_test_array = np.asanyarray(y_test)

x_test=sc.transform(x_test)

y_hat = regr.predict(x_test)

print("Residual sum of squares: %.2f" % np.mean((y_hat - y_test_array) ** 2))
print(f"Accuracy: {(regr.score(x_test, y_test_array)*100):.2f}")
